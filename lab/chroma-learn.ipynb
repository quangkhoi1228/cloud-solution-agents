{
 "cells": [
  {
   "cell_type": "code",
   "execution_count": 1,
   "id": "dea24a8b",
   "metadata": {},
   "outputs": [],
   "source": [
    "import chromadb\n",
    "chroma_client = chromadb.Client()"
   ]
  },
  {
   "cell_type": "code",
   "execution_count": 7,
   "id": "6ecf0de1",
   "metadata": {},
   "outputs": [],
   "source": [
    "from chromadb.utils.embedding_functions import EmbeddingFunction\n",
    "from sentence_transformers import SentenceTransformer\n",
    "import numpy as np\n",
    "\n",
    "class BGE_M3_EmbeddingFunction(EmbeddingFunction):\n",
    "    def __init__(self, model_name=\"BAAI/bge-m3\", device=\"cpu\"):\n",
    "        self.model = SentenceTransformer(model_name)\n",
    "        self.model.to(device)\n",
    "\n",
    "    def __call__(self, texts):\n",
    "        # Khuyến nghị của BGE: thêm prefix \"Represent this sentence for searching relevant passages:\"\n",
    "        texts = [f\"Represent this sentence for searching relevant passages: {text}\" for text in texts]\n",
    "        embeddings = self.model.encode(texts, normalize_embeddings=True)  # BGE yêu cầu normalize\n",
    "        return embeddings.tolist()\n"
   ]
  },
  {
   "cell_type": "code",
   "execution_count": 5,
   "id": "116514aa",
   "metadata": {},
   "outputs": [],
   "source": [
    "chroma_client.delete_collection(name=\"my_collection\")"
   ]
  },
  {
   "cell_type": "code",
   "execution_count": 8,
   "id": "28ba18cf",
   "metadata": {},
   "outputs": [],
   "source": [
    "from langchain_huggingface import HuggingFaceEmbeddings\n",
    "from langchain.vectorstores import Chroma\n",
    "\n",
    "collection = chroma_client.get_or_create_collection(\n",
    "    name=\"my_collection\",\n",
    "    embedding_function=BGE_M3_EmbeddingFunction()\n",
    ")"
   ]
  },
  {
   "cell_type": "code",
   "execution_count": 9,
   "id": "3d3972d0",
   "metadata": {},
   "outputs": [],
   "source": [
    "collection.add(\n",
    "    ids=[\"id1\", \"id2\"],\n",
    "    documents=[\n",
    "        \"This is a document about pineapple\",\n",
    "        \"This is a document about oranges\"\n",
    "    ]\n",
    ")"
   ]
  },
  {
   "cell_type": "code",
   "execution_count": 13,
   "id": "a44c6422",
   "metadata": {},
   "outputs": [
    {
     "name": "stdout",
     "output_type": "stream",
     "text": [
      "{\n",
      "  \"ids\": [\n",
      "    [\n",
      "      \"id1\",\n",
      "      \"id2\"\n",
      "    ]\n",
      "  ],\n",
      "  \"embeddings\": null,\n",
      "  \"documents\": [\n",
      "    [\n",
      "      \"This is a document about pineapple\",\n",
      "      \"This is a document about oranges\"\n",
      "    ]\n",
      "  ],\n",
      "  \"uris\": null,\n",
      "  \"included\": [\n",
      "    \"metadatas\",\n",
      "    \"documents\",\n",
      "    \"distances\"\n",
      "  ],\n",
      "  \"data\": null,\n",
      "  \"metadatas\": [\n",
      "    [\n",
      "      null,\n",
      "      null\n",
      "    ]\n",
      "  ],\n",
      "  \"distances\": [\n",
      "    [\n",
      "      0.09517716616392136,\n",
      "      0.29911577701568604\n",
      "    ]\n",
      "  ]\n",
      "}\n"
     ]
    }
   ],
   "source": [
    "import json\n",
    "\n",
    "\n",
    "results = collection.query(\n",
    "    query_texts=[\"This is a query document about pineapples\"], # Chroma will embed this for you\n",
    "    n_results=2 # how many results to return\n",
    ")\n",
    "print(json.dumps(results, indent=2))"
   ]
  }
 ],
 "metadata": {
  "kernelspec": {
   "display_name": ".venv",
   "language": "python",
   "name": "python3"
  },
  "language_info": {
   "codemirror_mode": {
    "name": "ipython",
    "version": 3
   },
   "file_extension": ".py",
   "mimetype": "text/x-python",
   "name": "python",
   "nbconvert_exporter": "python",
   "pygments_lexer": "ipython3",
   "version": "3.11.2"
  }
 },
 "nbformat": 4,
 "nbformat_minor": 5
}
